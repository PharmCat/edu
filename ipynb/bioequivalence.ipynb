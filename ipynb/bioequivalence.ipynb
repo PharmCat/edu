{
 "cells": [
  {
   "cell_type": "code",
   "execution_count": 6,
   "id": "659bec06",
   "metadata": {},
   "outputs": [
    {
     "data": {
      "text/html": [
       "<div class=\"data-frame\"><p>36 rows × 5 columns</p><table class=\"data-frame\"><thead><tr><th></th><th>Subject</th><th>Sequence</th><th>Period</th><th>Formulation</th><th>Cmax</th></tr><tr><th></th><th title=\"CategoricalValue{Int64, UInt32}\">Cat…</th><th title=\"CategoricalValue{String3, UInt32}\">Cat…</th><th title=\"CategoricalValue{Int64, UInt32}\">Cat…</th><th title=\"CategoricalValue{String1, UInt32}\">Cat…</th><th title=\"Float64\">Float64</th></tr></thead><tbody><tr><th>1</th><td>3</td><td>TR</td><td>1</td><td>T</td><td>225.95</td></tr><tr><th>2</th><td>1</td><td>RT</td><td>1</td><td>R</td><td>181.09</td></tr><tr><th>3</th><td>2</td><td>RT</td><td>1</td><td>R</td><td>114.48</td></tr><tr><th>4</th><td>4</td><td>RT</td><td>1</td><td>R</td><td>176.91</td></tr><tr><th>5</th><td>5</td><td>TR</td><td>1</td><td>T</td><td>147.01</td></tr><tr><th>6</th><td>6</td><td>TR</td><td>1</td><td>T</td><td>97.53</td></tr><tr><th>7</th><td>7</td><td>RT</td><td>1</td><td>R</td><td>146.6</td></tr><tr><th>8</th><td>8</td><td>TR</td><td>1</td><td>T</td><td>45.58</td></tr><tr><th>9</th><td>9</td><td>RT</td><td>1</td><td>R</td><td>109.2</td></tr><tr><th>10</th><td>10</td><td>RT</td><td>1</td><td>R</td><td>125.61</td></tr><tr><th>11</th><td>11</td><td>TR</td><td>1</td><td>T</td><td>92.26</td></tr><tr><th>12</th><td>12</td><td>RT</td><td>1</td><td>R</td><td>237.95</td></tr><tr><th>13</th><td>13</td><td>TR</td><td>1</td><td>T</td><td>145.46</td></tr><tr><th>14</th><td>14</td><td>TR</td><td>1</td><td>T</td><td>179.96</td></tr><tr><th>15</th><td>15</td><td>TR</td><td>1</td><td>T</td><td>173.86</td></tr><tr><th>16</th><td>16</td><td>RT</td><td>1</td><td>R</td><td>144.0</td></tr><tr><th>17</th><td>17</td><td>RT</td><td>1</td><td>R</td><td>185.1</td></tr><tr><th>18</th><td>18</td><td>TR</td><td>1</td><td>T</td><td>117.99</td></tr><tr><th>19</th><td>1</td><td>RT</td><td>2</td><td>T</td><td>210.14</td></tr><tr><th>20</th><td>2</td><td>RT</td><td>2</td><td>T</td><td>98.72</td></tr><tr><th>21</th><td>3</td><td>TR</td><td>2</td><td>R</td><td>241.09</td></tr><tr><th>22</th><td>4</td><td>RT</td><td>2</td><td>T</td><td>186.65</td></tr><tr><th>23</th><td>5</td><td>TR</td><td>2</td><td>R</td><td>139.56</td></tr><tr><th>24</th><td>6</td><td>TR</td><td>2</td><td>R</td><td>124.77</td></tr><tr><th>25</th><td>7</td><td>RT</td><td>2</td><td>T</td><td>137.62</td></tr><tr><th>26</th><td>8</td><td>TR</td><td>2</td><td>R</td><td>57.71</td></tr><tr><th>27</th><td>9</td><td>RT</td><td>2</td><td>T</td><td>139.36</td></tr><tr><th>28</th><td>10</td><td>RT</td><td>2</td><td>T</td><td>120.43</td></tr><tr><th>29</th><td>11</td><td>TR</td><td>2</td><td>R</td><td>116.1</td></tr><tr><th>30</th><td>12</td><td>RT</td><td>2</td><td>T</td><td>228.63</td></tr><tr><th>&vellip;</th><td>&vellip;</td><td>&vellip;</td><td>&vellip;</td><td>&vellip;</td><td>&vellip;</td></tr></tbody></table></div>"
      ],
      "text/latex": [
       "\\begin{tabular}{r|ccccc}\n",
       "\t& Subject & Sequence & Period & Formulation & Cmax\\\\\n",
       "\t\\hline\n",
       "\t& Cat… & Cat… & Cat… & Cat… & Float64\\\\\n",
       "\t\\hline\n",
       "\t1 & 3 & TR & 1 & T & 225.95 \\\\\n",
       "\t2 & 1 & RT & 1 & R & 181.09 \\\\\n",
       "\t3 & 2 & RT & 1 & R & 114.48 \\\\\n",
       "\t4 & 4 & RT & 1 & R & 176.91 \\\\\n",
       "\t5 & 5 & TR & 1 & T & 147.01 \\\\\n",
       "\t6 & 6 & TR & 1 & T & 97.53 \\\\\n",
       "\t7 & 7 & RT & 1 & R & 146.6 \\\\\n",
       "\t8 & 8 & TR & 1 & T & 45.58 \\\\\n",
       "\t9 & 9 & RT & 1 & R & 109.2 \\\\\n",
       "\t10 & 10 & RT & 1 & R & 125.61 \\\\\n",
       "\t11 & 11 & TR & 1 & T & 92.26 \\\\\n",
       "\t12 & 12 & RT & 1 & R & 237.95 \\\\\n",
       "\t13 & 13 & TR & 1 & T & 145.46 \\\\\n",
       "\t14 & 14 & TR & 1 & T & 179.96 \\\\\n",
       "\t15 & 15 & TR & 1 & T & 173.86 \\\\\n",
       "\t16 & 16 & RT & 1 & R & 144.0 \\\\\n",
       "\t17 & 17 & RT & 1 & R & 185.1 \\\\\n",
       "\t18 & 18 & TR & 1 & T & 117.99 \\\\\n",
       "\t19 & 1 & RT & 2 & T & 210.14 \\\\\n",
       "\t20 & 2 & RT & 2 & T & 98.72 \\\\\n",
       "\t21 & 3 & TR & 2 & R & 241.09 \\\\\n",
       "\t22 & 4 & RT & 2 & T & 186.65 \\\\\n",
       "\t23 & 5 & TR & 2 & R & 139.56 \\\\\n",
       "\t24 & 6 & TR & 2 & R & 124.77 \\\\\n",
       "\t25 & 7 & RT & 2 & T & 137.62 \\\\\n",
       "\t26 & 8 & TR & 2 & R & 57.71 \\\\\n",
       "\t27 & 9 & RT & 2 & T & 139.36 \\\\\n",
       "\t28 & 10 & RT & 2 & T & 120.43 \\\\\n",
       "\t29 & 11 & TR & 2 & R & 116.1 \\\\\n",
       "\t30 & 12 & RT & 2 & T & 228.63 \\\\\n",
       "\t$\\dots$ & $\\dots$ & $\\dots$ & $\\dots$ & $\\dots$ & $\\dots$ \\\\\n",
       "\\end{tabular}\n"
      ],
      "text/plain": [
       "\u001b[1m36×5 DataFrame\u001b[0m\n",
       "\u001b[1m Row \u001b[0m│\u001b[1m Subject \u001b[0m\u001b[1m Sequence \u001b[0m\u001b[1m Period \u001b[0m\u001b[1m Formulation \u001b[0m\u001b[1m Cmax    \u001b[0m\n",
       "\u001b[1m     \u001b[0m│\u001b[90m Cat…    \u001b[0m\u001b[90m Cat…     \u001b[0m\u001b[90m Cat…   \u001b[0m\u001b[90m Cat…        \u001b[0m\u001b[90m Float64 \u001b[0m\n",
       "─────┼─────────────────────────────────────────────────\n",
       "   1 │ 3        TR        1       T             225.95\n",
       "   2 │ 1        RT        1       R             181.09\n",
       "   3 │ 2        RT        1       R             114.48\n",
       "   4 │ 4        RT        1       R             176.91\n",
       "   5 │ 5        TR        1       T             147.01\n",
       "   6 │ 6        TR        1       T              97.53\n",
       "   7 │ 7        RT        1       R             146.6\n",
       "   8 │ 8        TR        1       T              45.58\n",
       "   9 │ 9        RT        1       R             109.2\n",
       "  10 │ 10       RT        1       R             125.61\n",
       "  11 │ 11       TR        1       T              92.26\n",
       "  ⋮  │    ⋮        ⋮        ⋮          ⋮          ⋮\n",
       "  27 │ 9        RT        2       T             139.36\n",
       "  28 │ 10       RT        2       T             120.43\n",
       "  29 │ 11       TR        2       R             116.1\n",
       "  30 │ 12       RT        2       T             228.63\n",
       "  31 │ 13       TR        2       R             165.09\n",
       "  32 │ 14       TR        2       R             181.09\n",
       "  33 │ 15       TR        2       R             206.66\n",
       "  34 │ 16       RT        2       T             143.25\n",
       "  35 │ 17       RT        2       T             192.22\n",
       "  36 │ 18       TR        2       R             125.5\n",
       "\u001b[36m                                        15 rows omitted\u001b[0m"
      ]
     },
     "execution_count": 6,
     "metadata": {},
     "output_type": "execute_result"
    }
   ],
   "source": [
    "using CategoricalArrays, DataFrames, CSV, GLM\n",
    "\n",
    "\n",
    "df = download(\"https://raw.githubusercontent.com/PharmCat/edu/main/csv/be.csv\") |> CSV.File |> DataFrame\n",
    "\n",
    "transform!(df, :Subject => categorical, renamecols=false)\n",
    "transform!(df, :Period => categorical, renamecols=false)\n",
    "transform!(df, :Sequence => categorical, renamecols=false)\n",
    "transform!(df, :Formulation => categorical, renamecols=false)\n",
    "\n",
    "#"
   ]
  },
  {
   "cell_type": "code",
   "execution_count": 13,
   "id": "cb36129a",
   "metadata": {},
   "outputs": [
    {
     "data": {
      "text/plain": [
       "StatsModels.TableRegressionModel{LinearModel{GLM.LmResp{Vector{Float64}}, GLM.DensePredChol{Float64, LinearAlgebra.CholeskyPivoted{Float64, Matrix{Float64}}}}, Matrix{Float64}}\n",
       "\n",
       ":(log(Cmax)) ~ 1 + Period + Formulation + Subject\n",
       "\n",
       "Coefficients:\n",
       "──────────────────────────────────────────────────────────────────────────────────\n",
       "                     Coef.  Std. Error       t  Pr(>|t|)    Lower 95%    Upper 95%\n",
       "──────────────────────────────────────────────────────────────────────────────────\n",
       "(Intercept)      5.26309     0.0596091   88.29    <1e-22   5.13672      5.38945\n",
       "Period: 2        0.0709849   0.026658     2.66    0.0170   0.0144724    0.127497\n",
       "Formulation: T  -0.0503868   0.026658    -1.89    0.0770  -0.106899     0.00612568\n",
       "Subject: 2      -0.60704     0.079974    -7.59    <1e-05  -0.776578    -0.437503\n",
       "Subject: 3       0.179358    0.079974     2.24    0.0394   0.00982058   0.348895\n",
       "Subject: 4      -0.0709459   0.079974    -0.89    0.3882  -0.240483     0.0985915\n",
       "Subject: 5      -0.308886    0.079974    -3.86    0.0014  -0.478424    -0.139349\n",
       "Subject: 6      -0.570068    0.079974    -7.13    <1e-05  -0.739605    -0.400531\n",
       "Subject: 7      -0.317282    0.079974    -3.97    0.0011  -0.486819    -0.147745\n",
       "Subject: 8      -1.33593     0.079974   -16.70    <1e-10  -1.50547     -1.1664\n",
       "Subject: 9      -0.458263    0.079974    -5.73    <1e-04  -0.627801    -0.288726\n",
       "Subject: 10     -0.461259    0.079974    -5.77    <1e-04  -0.630796    -0.291721\n",
       "Subject: 11     -0.633853    0.079974    -7.93    <1e-06  -0.80339     -0.464315\n",
       "Subject: 12      0.178699    0.079974     2.23    0.0401   0.00916133   0.348236\n",
       "Subject: 13     -0.230188    0.079974    -2.88    0.0109  -0.399725    -0.0606507\n",
       "Subject: 14     -0.0775197   0.079974    -0.97    0.3468  -0.247057     0.0920177\n",
       "Subject: 15     -0.0287214   0.079974    -0.36    0.7242  -0.198259     0.140816\n",
       "Subject: 16     -0.306182    0.079974    -3.83    0.0015  -0.475719    -0.136644\n",
       "Subject: 17     -0.0336157   0.079974    -0.42    0.6798  -0.203153     0.135922\n",
       "Subject: 18     -0.471931    0.079974    -5.90    <1e-04  -0.641469    -0.302394\n",
       "──────────────────────────────────────────────────────────────────────────────────"
      ]
     },
     "execution_count": 13,
     "metadata": {},
     "output_type": "execute_result"
    }
   ],
   "source": [
    "olscmax_null  = lm(@formula(log(Cmax) ~ Subject), df)\n",
    "olscmax_form  = lm(@formula(log(Cmax) ~ Subject + Formulation), df)\n",
    "olscmax_seq   = lm(@formula(log(Cmax) ~ Subject + Sequence), df)\n",
    "\n",
    "olscmax  = lm(@formula(log(Cmax) ~ Sequence+Period+Formulation+Subject), df)\n",
    "\n",
    "olscmax_noseq  = lm(@formula(log(Cmax) ~ Period+Formulation+Subject), df)"
   ]
  },
  {
   "cell_type": "code",
   "execution_count": null,
   "id": "5b0975cc",
   "metadata": {},
   "outputs": [],
   "source": [
    "ftest(olscmax_null.model, olscmax_form.model, olscmax.model)"
   ]
  },
  {
   "cell_type": "code",
   "execution_count": 8,
   "id": "c4fde4b3",
   "metadata": {},
   "outputs": [
    {
     "data": {
      "text/plain": [
       "F-test: 2 models fitted on 36 observations\n",
       "───────────────────────────────────────────────────────────────\n",
       "     DOF  ΔDOF     SSR    ΔSSR      R²      ΔR²      F*   p(>F)\n",
       "───────────────────────────────────────────────────────────────\n",
       "[1]   21        0.1023          0.9779                         \n",
       "[2]   19    -2  0.1705  0.0682  0.9632  -0.0147  5.3315  0.0168\n",
       "───────────────────────────────────────────────────────────────"
      ]
     },
     "execution_count": 8,
     "metadata": {},
     "output_type": "execute_result"
    }
   ],
   "source": [
    "ftest(olscmax.model, olscmax_null.model)"
   ]
  },
  {
   "cell_type": "code",
   "execution_count": 9,
   "id": "b628a317",
   "metadata": {},
   "outputs": [
    {
     "data": {
      "text/plain": [
       "F-test: 3 models fitted on 36 observations\n",
       "───────────────────────────────────────────────────────────────\n",
       "     DOF  ΔDOF     SSR     ΔSSR      R²     ΔR²      F*   p(>F)\n",
       "───────────────────────────────────────────────────────────────\n",
       "[1]   19        0.1705           0.9632                        \n",
       "[2]   20     1  0.1477  -0.0228  0.9681  0.0049  2.6302  0.1232\n",
       "[3]   21     1  0.1023  -0.0453  0.9779  0.0098  7.0905  0.0170\n",
       "───────────────────────────────────────────────────────────────"
      ]
     },
     "execution_count": 9,
     "metadata": {},
     "output_type": "execute_result"
    }
   ],
   "source": [
    "ftest(olscmax_null.model, olscmax_form.model, olscmax.model)"
   ]
  },
  {
   "cell_type": "code",
   "execution_count": 11,
   "id": "4d370fa2",
   "metadata": {},
   "outputs": [
    {
     "ename": "LoadError",
     "evalue": "ArgumentError: F test is only valid for nested models",
     "output_type": "error",
     "traceback": [
      "ArgumentError: F test is only valid for nested models",
      "",
      "Stacktrace:",
      " [1] ftest(::LinearModel{GLM.LmResp{Vector{Float64}}, GLM.DensePredChol{Float64, LinearAlgebra.CholeskyPivoted{Float64, Matrix{Float64}}}}, ::Vararg{LinearModel{GLM.LmResp{Vector{Float64}}, GLM.DensePredChol{Float64, LinearAlgebra.CholeskyPivoted{Float64, Matrix{Float64}}}}}; atol::Float64)",
      "   @ GLM C:\\Users\\vsarn\\.julia\\packages\\GLM\\P0Ris\\src\\ftest.jl:141",
      " [2] ftest(::LinearModel{GLM.LmResp{Vector{Float64}}, GLM.DensePredChol{Float64, LinearAlgebra.CholeskyPivoted{Float64, Matrix{Float64}}}}, ::LinearModel{GLM.LmResp{Vector{Float64}}, GLM.DensePredChol{Float64, LinearAlgebra.CholeskyPivoted{Float64, Matrix{Float64}}}}, ::Vararg{LinearModel{GLM.LmResp{Vector{Float64}}, GLM.DensePredChol{Float64, LinearAlgebra.CholeskyPivoted{Float64, Matrix{Float64}}}}})",
      "   @ GLM C:\\Users\\vsarn\\.julia\\packages\\GLM\\P0Ris\\src\\ftest.jl:133",
      " [3] top-level scope",
      "   @ In[11]:1",
      " [4] eval",
      "   @ .\\boot.jl:373 [inlined]",
      " [5] include_string(mapexpr::typeof(REPL.softscope), mod::Module, code::String, filename::String)",
      "   @ Base .\\loading.jl:1196"
     ]
    }
   ],
   "source": [
    "ftest(olscmax_null.model, olscmax_seq.model)"
   ]
  },
  {
   "cell_type": "code",
   "execution_count": 15,
   "id": "e2f693ac",
   "metadata": {},
   "outputs": [
    {
     "ename": "LoadError",
     "evalue": "ArgumentError: F test is only valid for nested models",
     "output_type": "error",
     "traceback": [
      "ArgumentError: F test is only valid for nested models",
      "",
      "Stacktrace:",
      " [1] ftest(::LinearModel{GLM.LmResp{Vector{Float64}}, GLM.DensePredChol{Float64, LinearAlgebra.CholeskyPivoted{Float64, Matrix{Float64}}}}, ::Vararg{LinearModel{GLM.LmResp{Vector{Float64}}, GLM.DensePredChol{Float64, LinearAlgebra.CholeskyPivoted{Float64, Matrix{Float64}}}}}; atol::Float64)",
      "   @ GLM C:\\Users\\vsarn\\.julia\\packages\\GLM\\P0Ris\\src\\ftest.jl:141",
      " [2] ftest(::LinearModel{GLM.LmResp{Vector{Float64}}, GLM.DensePredChol{Float64, LinearAlgebra.CholeskyPivoted{Float64, Matrix{Float64}}}}, ::LinearModel{GLM.LmResp{Vector{Float64}}, GLM.DensePredChol{Float64, LinearAlgebra.CholeskyPivoted{Float64, Matrix{Float64}}}}, ::Vararg{LinearModel{GLM.LmResp{Vector{Float64}}, GLM.DensePredChol{Float64, LinearAlgebra.CholeskyPivoted{Float64, Matrix{Float64}}}}})",
      "   @ GLM C:\\Users\\vsarn\\.julia\\packages\\GLM\\P0Ris\\src\\ftest.jl:133",
      " [3] top-level scope",
      "   @ In[15]:1",
      " [4] eval",
      "   @ .\\boot.jl:373 [inlined]",
      " [5] include_string(mapexpr::typeof(REPL.softscope), mod::Module, code::String, filename::String)",
      "   @ Base .\\loading.jl:1196"
     ]
    }
   ],
   "source": [
    "ftest(olscmax.model, olscmax_noseq.model)"
   ]
  },
  {
   "cell_type": "code",
   "execution_count": null,
   "id": "3f71ce11",
   "metadata": {},
   "outputs": [],
   "source": []
  }
 ],
 "metadata": {
  "kernelspec": {
   "display_name": "Julia 1.7.3",
   "language": "julia",
   "name": "julia-1.7"
  },
  "language_info": {
   "file_extension": ".jl",
   "mimetype": "application/julia",
   "name": "julia",
   "version": "1.7.3"
  }
 },
 "nbformat": 4,
 "nbformat_minor": 5
}
